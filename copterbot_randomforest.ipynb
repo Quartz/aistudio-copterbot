{
 "cells": [
  {
   "cell_type": "code",
   "execution_count": 58,
   "metadata": {},
   "outputs": [],
   "source": [
    "from sklearn.ensemble import RandomForestClassifier\n",
    "from sklearn.model_selection import train_test_split\n",
    "from sklearn.metrics import classification_report, confusion_matrix\n",
    "\n",
    "import csv\n",
    "import pandas as pd\n",
    "from random import seed\n",
    "import matplotlib.pyplot as plt \n",
    "import numpy as np\n",
    "SEED = 12345\n",
    "seed(SEED)"
   ]
  },
  {
   "cell_type": "code",
   "execution_count": 56,
   "metadata": {},
   "outputs": [],
   "source": [
    "df_planes = pd.read_csv('training_data.csv')\n",
    "# df_planes['is_hover'] = df_planes['is_hover'].astype('category')\n",
    "df_planes['squawk'] = df_planes['squawk'].astype('category')\n",
    "\n",
    "features = list(set(df_planes.columns) - set([\"icao_hex\", \"nnum\", \"start_time\", \"end_time\", \"is_hover\", \"record_cnt\"]))\n",
    "\n",
    "\n",
    "train_df, test_df = train_test_split(df_planes, \n",
    "                                           test_size=0.2, \n",
    "                                           shuffle=True)\n"
   ]
  },
  {
   "cell_type": "code",
   "execution_count": 81,
   "metadata": {},
   "outputs": [
    {
     "name": "stdout",
     "output_type": "stream",
     "text": [
      "              precision    recall  f1-score   support\n",
      "\n",
      "       False       0.97      0.86      0.91       177\n",
      "        True       0.42      0.78      0.55        23\n",
      "\n",
      "   micro avg       0.85      0.85      0.85       200\n",
      "   macro avg       0.69      0.82      0.73       200\n",
      "weighted avg       0.90      0.85      0.87       200\n",
      "\n",
      "✓+: 18   | ✗+: 5\n",
      "✗-: 25   | ✓-: 152\n",
      " \n",
      "[[18, 5], [25, 152]]\n",
      "        speed2: 22.67%\n",
      "        steer2: 20.86%\n",
      "        steer3: 13.45%\n",
      "        steer5: 11.0%\n",
      "      xysteer5: 5.84%\n",
      "        steer1: 5.28%\n",
      "        speed3: 4.94%\n",
      "        steer4: 2.6%\n",
      "     altitude5: 2.09%\n",
      "        speed1: 1.98%\n",
      "     altitude1: 1.72%\n",
      "vertical_rate1: 1.19%\n",
      "        speed5: 1.11%\n",
      "      xysteer4: 1.1%\n",
      "vertical_rate2: 1.03%\n",
      "vertical_rate5: 0.68%\n",
      "vertical_rate3: 0.55%\n",
      "     altitude3: 0.52%\n",
      "     altitude2: 0.44%\n",
      "        squawk: 0.37%\n",
      "vertical_rate4: 0.36%\n",
      "     altitude4: 0.1%\n",
      "        speed4: 0.1%\n",
      "      xysteer1: 0.0%\n",
      "      xysteer3: 0.0%\n",
      "      xysteer2: 0.0%\n"
     ]
    }
   ],
   "source": [
    "clf = RandomForestClassifier(n_estimators=1000, max_depth=2,\n",
    "                              max_features=0.33,\n",
    "                              oob_score=True,\n",
    "                              class_weight=\"balanced\",\n",
    "                              random_state=SEED\n",
    "                            )\n",
    "clf.fit(train_df[features], train_df[['is_hover']].values.ravel())\n",
    "assert set(clf.classes_) == set([True, False])\n",
    "\n",
    "importances = clf.feature_importances_\n",
    "indices = np.argsort(importances)[::-1]\n",
    "\n",
    "predicted_labels = clf.predict(test_df[features])\n",
    "print(classification_report(test_df[\"is_hover\"], predicted_labels ))\n",
    "conf_mat = confusion_matrix(test_df[\"is_hover\"], predicted_labels, labels=[True, False])\n",
    "print(\"✓+: {}   | ✗+: {}\\n✗-: {}   | ✓-: {}\\n \".format(*[s for l in conf_mat.tolist() for s in l]))\n",
    "print(conf_mat.tolist())\n",
    "max_feature_strlen = max(map(len, features))\n",
    "for feature, importance in sorted(list(zip(features, clf.feature_importances_)), key=lambda x: -x[1] ):\n",
    "    print(\"{}: {}%\".format(str.rjust(feature, max_feature_strlen), round(importance * 100, 2)))"
   ]
  },
  {
   "cell_type": "code",
   "execution_count": null,
   "metadata": {},
   "outputs": [],
   "source": []
  },
  {
   "cell_type": "code",
   "execution_count": null,
   "metadata": {},
   "outputs": [],
   "source": []
  }
 ],
 "metadata": {
  "kernelspec": {
   "display_name": "Python 3",
   "language": "python",
   "name": "python3"
  },
  "language_info": {
   "codemirror_mode": {
    "name": "ipython",
    "version": 3
   },
   "file_extension": ".py",
   "mimetype": "text/x-python",
   "name": "python",
   "nbconvert_exporter": "python",
   "pygments_lexer": "ipython3",
   "version": "3.7.2"
  }
 },
 "nbformat": 4,
 "nbformat_minor": 2
}
