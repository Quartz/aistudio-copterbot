{
 "cells": [
  {
   "cell_type": "code",
   "execution_count": 3,
   "metadata": {},
   "outputs": [],
   "source": [
    "from sklearn.ensemble import RandomForestClassifier\n",
    "from sklearn.model_selection import train_test_split\n",
    "from sklearn.metrics import classification_report, average_precision_score, accuracy_score, confusion_matrix\n",
    "\n",
    "import xgboost as xgb\n",
    "import csv\n",
    "import pandas as pd\n",
    "from random import seed\n",
    "import matplotlib.pyplot as plt \n",
    "import numpy as np\n",
    "import pickle\n",
    "SEED = 12345\n",
    "seed(SEED)"
   ]
  },
  {
   "cell_type": "code",
   "execution_count": 6,
   "metadata": {},
   "outputs": [],
   "source": [
    "df_planes = pd.read_csv('training_data.csv')\n",
    "df_planes['squawk'] = df_planes['squawk']\n",
    "features = list(set(df_planes.columns) - set([\"icao_hex\", \"nnum\", \"png_filename\", \"start_time\", \"end_time\", \"is_hover\", \"record_cnt\"]))"
   ]
  },
  {
   "cell_type": "markdown",
   "metadata": {},
   "source": [
    "XGBoost gets like 82.5% AUPR compared to 71% for Random Forests so that's cool"
   ]
  },
  {
   "cell_type": "code",
   "execution_count": 46,
   "metadata": {},
   "outputs": [
    {
     "name": "stdout",
     "output_type": "stream",
     "text": [
      "AUPR: 0.8245340924417659 | baseline: 0.2130718954248366\n",
      "\n"
     ]
    }
   ],
   "source": [
    "auprs = []\n",
    "aupr_bls = []\n",
    "clf = None\n",
    "\n",
    "param = {'max_depth': 3, 'eta': 0.1, 'verbosity': 0}\n",
    "# {'max_depth': 3, 'eta': 0.1} gets 82.5\n",
    "# param['nthread'] = 4\n",
    "param['eval_metric'] = 'aucpr'\n",
    "num_round = 200\n",
    "for i in range(5): \n",
    "    train_df, test_df = train_test_split(df_planes, \n",
    "                                         test_size=0.2, \n",
    "                                         shuffle=True,\n",
    "                                         random_state=SEED+i\n",
    "                                        )\n",
    "\n",
    "    dtrain = xgb.DMatrix( train_df[features], label=train_df[['is_hover']])\n",
    "    dtest = xgb.DMatrix( test_df[features], label=test_df[['is_hover']])\n",
    "    \n",
    "    evallist = [(dtrain, 'train')]\n",
    "    bst = xgb.train(param, dtrain, num_round, [])\n",
    "    \n",
    "    ypred = bst.predict(dtest)\n",
    "    aupr = average_precision_score(test_df[['is_hover']], ypred)\n",
    "    auprs.append(aupr)\n",
    "    aupr_baseline = float(len([a for a in test_df[\"is_hover\"] if a]))/len(test_df[\"is_hover\"])\n",
    "    aupr_bls.append(aupr_baseline)\n",
    "\n",
    "\n",
    "print(\"AUPR: {} | baseline: {}\".format(sum(auprs) / len(auprs), sum(aupr_bls) / len(aupr_bls) ))\n",
    "print()"
   ]
  },
  {
   "cell_type": "code",
   "execution_count": null,
   "metadata": {},
   "outputs": [],
   "source": []
  },
  {
   "cell_type": "code",
   "execution_count": null,
   "metadata": {
    "scrolled": false
   },
   "outputs": [],
   "source": [
    "from IPython.display import Image, display\n",
    "\n",
    "for row, pred in zip(test_df.values, predicted_labels):\n",
    "    if pred != row[5]:\n",
    "        print(row[2])\n",
    "        print(\"actual: {}; predicted: {}\".format(row[5], pred))\n",
    "        display(Image(row[2], width=400))\n"
   ]
  },
  {
   "cell_type": "code",
   "execution_count": null,
   "metadata": {},
   "outputs": [],
   "source": []
  },
  {
   "cell_type": "code",
   "execution_count": null,
   "metadata": {},
   "outputs": [],
   "source": []
  },
  {
   "cell_type": "code",
   "execution_count": null,
   "metadata": {},
   "outputs": [],
   "source": []
  }
 ],
 "metadata": {
  "kernelspec": {
   "display_name": "Python 3",
   "language": "python",
   "name": "python3"
  },
  "language_info": {
   "codemirror_mode": {
    "name": "ipython",
    "version": 3
   },
   "file_extension": ".py",
   "mimetype": "text/x-python",
   "name": "python",
   "nbconvert_exporter": "python",
   "pygments_lexer": "ipython3",
   "version": "3.7.2"
  }
 },
 "nbformat": 4,
 "nbformat_minor": 2
}
